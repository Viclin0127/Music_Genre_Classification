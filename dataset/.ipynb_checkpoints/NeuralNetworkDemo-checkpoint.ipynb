{
 "cells": [
  {
   "cell_type": "code",
   "execution_count": 1,
   "metadata": {},
   "outputs": [],
   "source": [
    "from sklearn import datasets\n",
    "from matplotlib import pyplot as plt\n",
    "import pandas as pd"
   ]
  },
  {
   "cell_type": "code",
   "execution_count": 2,
   "metadata": {},
   "outputs": [],
   "source": [
    "def plot(x, y, features):\n",
    "    #formatter = plt.FuncFormatter(lambda i, *args: classes[int(i)])\n",
    "    plt.figure(figsize=(5, 4))\n",
    "    plt.scatter(x.iloc[:, 0], x.iloc[:, 1], c=y)\n",
    "    plt.colorbar(ticks=[0, 1, 2])\n",
    "    plt.xlabel(features[0])\n",
    "    plt.ylabel(features[1])\n",
    "\n",
    "    plt.tight_layout()\n",
    "    plt.show()"
   ]
  },
  {
   "cell_type": "code",
   "execution_count": 3,
   "metadata": {},
   "outputs": [
    {
     "data": {
      "image/png": "[encoded data removed]",
      "text/plain": [
       "<Figure size 360x288 with 2 Axes>"
      ]
     },
     "metadata": {
      "needs_background": "light"
     },
     "output_type": "display_data"
    }
   ],
   "source": [
    "data = pd.read_csv(\"or.txt\")\n",
    "data\n",
    "features = data[[\"x1\", \"x2\"]]\n",
    "labels = data[\"y\"]\n",
    "features\n",
    "plot(features, labels, [\"x1\", \"x2\"])"
   ]
  },
  {
   "cell_type": "code",
   "execution_count": 20,
   "metadata": {},
   "outputs": [
    {
     "data": {
      "text/plain": [
       "0    0\n",
       "1    1\n",
       "2    1\n",
       "3    1\n",
       "Name: y, dtype: int64"
      ]
     },
     "execution_count": 20,
     "metadata": {},
     "output_type": "execute_result"
    }
   ],
   "source": [
    "labels"
   ]
  },
  {
   "cell_type": "code",
   "execution_count": 11,
   "metadata": {},
   "outputs": [
    {
     "name": "stdout",
     "output_type": "stream",
     "text": [
      "epoch 0 iteration 0 ---  [[0. 0.]] [-1.] 0.25\n",
      "[0 0 0 0]\n",
      "epoch 0 iteration 1 ---  [[0. 1.]] [0.] 0.75\n",
      "[0 1 0 1]\n",
      "epoch 0 iteration 2 ---  [[1. 1.]] [1.] 0.75\n",
      "[1 1 1 1]\n",
      "epoch 0 iteration 3 ---  [[1. 1.]] [1.] 0.75\n",
      "[1 1 1 1]\n",
      "epoch 1 iteration 4 ---  [[1. 1.]] [0.] 1.0\n",
      "[0 1 1 1]\n",
      "epoch 1 iteration 5 ---  [[1. 1.]] [0.] 1.0\n",
      "[0 1 1 1]\n",
      "epoch 1 iteration 6 ---  [[1. 1.]] [0.] 1.0\n",
      "[0 1 1 1]\n",
      "epoch 1 iteration 7 ---  [[1. 1.]] [0.] 1.0\n",
      "[0 1 1 1]\n",
      "epoch 2 iteration 8 ---  [[1. 1.]] [-1.] 0.5\n",
      "[0 0 0 1]\n",
      "epoch 2 iteration 9 ---  [[1. 2.]] [0.] 1.0\n",
      "[0 1 1 1]\n",
      "epoch 2 iteration 10 ---  [[1. 2.]] [0.] 1.0\n",
      "[0 1 1 1]\n",
      "epoch 2 iteration 11 ---  [[1. 2.]] [0.] 1.0\n",
      "[0 1 1 1]\n",
      "epoch 3 iteration 12 ---  [[1. 2.]] [-1.] 0.75\n",
      "[0 1 0 1]\n",
      "epoch 3 iteration 13 ---  [[1. 2.]] [-1.] 0.75\n",
      "[0 1 0 1]\n",
      "epoch 3 iteration 14 ---  [[2. 2.]] [0.] 1.0\n",
      "[0 1 1 1]\n",
      "epoch 3 iteration 15 ---  [[2. 2.]] [0.] 1.0\n",
      "[0 1 1 1]\n",
      "epoch 4 iteration 16 ---  [[2. 2.]] [-1.] 1.0\n",
      "[0 1 1 1]\n",
      "epoch 4 iteration 17 ---  [[2. 2.]] [-1.] 1.0\n",
      "[0 1 1 1]\n",
      "epoch 4 iteration 18 ---  [[2. 2.]] [-1.] 1.0\n",
      "[0 1 1 1]\n",
      "epoch 4 iteration 19 ---  [[2. 2.]] [-1.] 1.0\n",
      "[0 1 1 1]\n",
      "epoch 5 iteration 20 ---  [[2. 2.]] [-1.] 1.0\n",
      "[0 1 1 1]\n",
      "epoch 5 iteration 21 ---  [[2. 2.]] [-1.] 1.0\n",
      "[0 1 1 1]\n",
      "epoch 5 iteration 22 ---  [[2. 2.]] [-1.] 1.0\n",
      "[0 1 1 1]\n",
      "epoch 5 iteration 23 ---  [[2. 2.]] [-1.] 1.0\n",
      "[0 1 1 1]\n",
      "epoch 6 iteration 24 ---  [[2. 2.]] [-1.] 1.0\n",
      "[0 1 1 1]\n",
      "epoch 6 iteration 25 ---  [[2. 2.]] [-1.] 1.0\n",
      "[0 1 1 1]\n",
      "epoch 6 iteration 26 ---  [[2. 2.]] [-1.] 1.0\n",
      "[0 1 1 1]\n",
      "epoch 6 iteration 27 ---  [[2. 2.]] [-1.] 1.0\n",
      "[0 1 1 1]\n",
      "epoch 7 iteration 28 ---  [[2. 2.]] [-1.] 1.0\n",
      "[0 1 1 1]\n",
      "epoch 7 iteration 29 ---  [[2. 2.]] [-1.] 1.0\n",
      "[0 1 1 1]\n",
      "epoch 7 iteration 30 ---  [[2. 2.]] [-1.] 1.0\n",
      "[0 1 1 1]\n",
      "epoch 7 iteration 31 ---  [[2. 2.]] [-1.] 1.0\n",
      "[0 1 1 1]\n",
      "epoch 8 iteration 32 ---  [[2. 2.]] [-1.] 1.0\n",
      "[0 1 1 1]\n",
      "epoch 8 iteration 33 ---  [[2. 2.]] [-1.] 1.0\n",
      "[0 1 1 1]\n",
      "epoch 8 iteration 34 ---  [[2. 2.]] [-1.] 1.0\n",
      "[0 1 1 1]\n",
      "epoch 8 iteration 35 ---  [[2. 2.]] [-1.] 1.0\n",
      "[0 1 1 1]\n",
      "epoch 9 iteration 36 ---  [[2. 2.]] [-1.] 1.0\n",
      "[0 1 1 1]\n",
      "epoch 9 iteration 37 ---  [[2. 2.]] [-1.] 1.0\n",
      "[0 1 1 1]\n",
      "epoch 9 iteration 38 ---  [[2. 2.]] [-1.] 1.0\n",
      "[0 1 1 1]\n",
      "epoch 9 iteration 39 ---  [[2. 2.]] [-1.] 1.0\n",
      "[0 1 1 1]\n"
     ]
    }
   ],
   "source": [
    "# show documentation\n",
    "# show parametrs: learning rate, solver, depth and width\n",
    "# show multiple runs -> doesn't always converge\n",
    "# perhaps show for loop: converges X out of Y times\n",
    "# make clear: though 1 hidden layer *CAN* learn, it doesn't have to!\n",
    "\n",
    "from sklearn.linear_model import Perceptron\n",
    "\n",
    "perceptron = Perceptron()\n",
    "\n",
    "epochs = 10\n",
    "counter = 0\n",
    "for i in range(epochs):\n",
    "    for ex in range(features.shape[0]):\n",
    "        perceptron.partial_fit([features.iloc[ex]], [labels.iloc[ex]], classes=[0,1])\n",
    "        score = perceptron.score(features, labels)\n",
    "        y_hat = perceptron.predict(features)\n",
    "        print(\"epoch {} iteration {} ---  {} {}\".format(i, counter, perceptron.coef_, perceptron.intercept_), score)\n",
    "        print(y_hat)\n",
    "        counter +=1\n",
    "\n"
   ]
  },
  {
   "cell_type": "code",
   "execution_count": 12,
   "metadata": {},
   "outputs": [
    {
     "name": "stdout",
     "output_type": "stream",
     "text": [
      "MLPClassifier(hidden_layer_sizes=(2,), learning_rate_init=0.01, solver='sgd')\n",
      "epoch 0 iteration 0 ---  0.75\n",
      "[1 1 1 1]\n",
      "epoch 70 iteration 70 ---  1.0\n",
      "[0 1 1 1]\n",
      "epoch 140 iteration 140 ---  1.0\n",
      "[0 1 1 1]\n",
      "epoch 210 iteration 210 ---  1.0\n",
      "[0 1 1 1]\n",
      "epoch 280 iteration 280 ---  1.0\n",
      "[0 1 1 1]\n",
      "epoch 350 iteration 350 ---  1.0\n",
      "[0 1 1 1]\n",
      "epoch 420 iteration 420 ---  1.0\n",
      "[0 1 1 1]\n",
      "epoch 490 iteration 490 ---  1.0\n",
      "[0 1 1 1]\n"
     ]
    }
   ],
   "source": [
    "# show documentation\n",
    "# show parametrs: learning rate, solver, depth and width\n",
    "# show multiple runs -> doesn't always converge\n",
    "# perhaps show for loop: converges X out of Y times\n",
    "# make clear: though 1 hidden layer *CAN* learn, it doesn't have to!\n",
    "\n",
    "from sklearn.neural_network import MLPClassifier\n",
    "\n",
    "mlp = MLPClassifier(solver='sgd', hidden_layer_sizes=(2,), learning_rate_init=0.01)\n",
    "print(mlp)\n",
    "\n",
    "epochs = 500\n",
    "counter = 0\n",
    "for i in range(epochs):\n",
    "        mlp.partial_fit(features, labels, classes=[0,1])\n",
    "        score = mlp.score(features, labels)\n",
    "        y_hat = mlp.predict(features)\n",
    "        if i% 70 ==0:\n",
    "            print(\"epoch {} iteration {} ---  {}\".format(i, counter, score))\n",
    "            print(y_hat)\n",
    "        counter +=1\n"
   ]
  },
  {
   "cell_type": "code",
   "execution_count": null,
   "metadata": {},
   "outputs": [],
   "source": []
  },
  {
   "cell_type": "code",
   "execution_count": null,
   "metadata": {},
   "outputs": [],
   "source": []
  },
  {
   "cell_type": "code",
   "execution_count": null,
   "metadata": {},
   "outputs": [],
   "source": []
  },
  {
   "cell_type": "code",
   "execution_count": null,
   "metadata": {},
   "outputs": [],
   "source": []
  }
 ],
 "metadata": {
  "kernelspec": {
   "display_name": "Python 3",
   "language": "python",
   "name": "python3"
  },
  "language_info": {
   "codemirror_mode": {
    "name": "ipython",
    "version": 3
   },
   "file_extension": ".py",
   "mimetype": "text/x-python",
   "name": "python",
   "nbconvert_exporter": "python",
   "pygments_lexer": "ipython3",
   "version": "3.6.5"
  }
 },
 "nbformat": 4,
 "nbformat_minor": 2
}
